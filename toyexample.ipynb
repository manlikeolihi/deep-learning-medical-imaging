{
 "cells": [
  {
   "cell_type": "markdown",
   "id": "4713c4b1",
   "metadata": {},
   "source": [
    "# Toy Example: Pancreatic Medical Image Segmentation with Segment Anything (SAM)\n",
    "\n",
    "This notebook demonstrates how to apply Meta AI's Segment Anything Model (SAM) to a medical image (CT scan) for semantic segmentation. We use a single input point to predict multiple mask hypotheses over a CT slice."
   ]
  },
  {
   "cell_type": "code",
   "execution_count": null,
   "id": "5ca7741c",
   "metadata": {},
   "outputs": [],
   "source": [
    "!pip install opencv-python matplotlib torch torchvision\n",
    "!pip install git+https://github.com/facebookresearch/segment-anything.git"
   ]
  },
  {
   "cell_type": "code",
   "execution_count": null,
   "id": "3f5f51ec",
   "metadata": {},
   "outputs": [],
   "source": [
    "import sys\n",
    "sys.path.append('/Users/olihiidikwu/Desktop/segment-anything')  # Path to SAM repo"
   ]
  },
  {
   "cell_type": "code",
   "execution_count": null,
   "id": "11e1e547",
   "metadata": {},
   "outputs": [],
   "source": [
    "import torch\n",
    "import numpy as np\n",
    "import cv2\n",
    "import matplotlib.pyplot as plt\n",
    "from segment_anything import sam_model_registry, SamPredictor\n",
    "\n",
    "# Load SAM model\n",
    "sam_checkpoint = \"/Users/olihiidikwu/Desktop/segment-anything/sam_vit_b_01ec64.pth\"\n",
    "model_type = \"vit_b\"\n",
    "device = \"cuda\" if torch.cuda.is_available() else \"cpu\"\n",
    "\n",
    "sam = sam_model_registry[model_type](checkpoint=sam_checkpoint)\n",
    "sam.to(device=device)"
   ]
  },
  {
   "cell_type": "markdown",
   "id": "b140d65c",
   "metadata": {},
   "source": [
    "We load the ViT-B variant of the Segment Anything Model (SAM), which is optimized for general-purpose segmentation. The model is initialized with a pretrained checkpoint and moved to GPU (if available) or CPU."
   ]
  },
  {
   "cell_type": "code",
   "execution_count": null,
   "id": "91acf22a",
   "metadata": {},
   "outputs": [],
   "source": [
    "# Load and display the sample CT scan\n",
    "image = cv2.imread(\"/Users/olihiidikwu/Desktop/segment-anything/sample.png\")\n",
    "image = cv2.cvtColor(image, cv2.COLOR_BGR2RGB)\n",
    "\n",
    "plt.imshow(image)\n",
    "plt.title(\"Input Image (CT Slice)\")\n",
    "plt.axis('off')\n",
    "plt.show()"
   ]
  },
  {
   "cell_type": "markdown",
   "id": "dd7b81f2",
   "metadata": {},
   "source": [
    "We load a grayscale CT image (`sample.png`) representing an axial abdominal slice. This image will be used as input for the segmentation task."
   ]
  },
  {
   "cell_type": "code",
   "execution_count": null,
   "id": "2e84ac5c",
   "metadata": {},
   "outputs": [],
   "source": [
    "# Initialize the predictor\n",
    "predictor = SamPredictor(sam)\n",
    "predictor.set_image(image)\n",
    "\n",
    "# Define a single point prompt\n",
    "input_point = np.array([[300, 300]])  # Modify if needed\n",
    "input_label = np.array([1])  # 1 = foreground\n",
    "\n",
    "# Predict masks\n",
    "masks, scores, logits = predictor.predict(\n",
    "    point_coords=input_point,\n",
    "    point_labels=input_label,\n",
    "    multimask_output=True,\n",
    ")\n",
    "\n",
    "# Display each predicted mask\n",
    "for i, mask in enumerate(masks):\n",
    "    plt.figure()\n",
    "    plt.imshow(image)\n",
    "    plt.imshow(mask, alpha=0.5)\n",
    "    plt.title(f\"Mask {i+1} — Score: {scores[i]:.3f}\")\n",
    "    plt.axis('off')\n",
    "    plt.show()"
   ]
  },
  {
   "cell_type": "markdown",
   "id": "07592ae7",
   "metadata": {},
   "source": [
    "We use a single coordinate as the segmentation prompt. SAM returns multiple possible segmentation masks, each with a confidence score. The masks are overlaid onto the original image for visualization."
   ]
  },
  {
   "cell_type": "markdown",
   "id": "1507db01",
   "metadata": {},
   "source": [
    "### 📌 Next Steps\n",
    "- Experiment with different prompt points to refine results\n",
    "- Test SAM on a batch of medical images\n",
    "- Integrate medical-specific pre-processing (e.g., windowing)\n",
    "- Compare SAM masks with ground truth labels (if available)\n",
    "\n",
    "### 🔬 Remarks\n",
    "While SAM was not specifically trained on medical images, it shows strong generalization. Future work may involve fine-tuning SAM on medical segmentation datasets or combining it with domain-specific techniques."
   ]
  }
 ],
 "metadata": {},
 "nbformat": 4,
 "nbformat_minor": 5
}
